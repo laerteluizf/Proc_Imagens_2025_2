{
  "nbformat": 4,
  "nbformat_minor": 0,
  "metadata": {
    "colab": {
      "provenance": [],
      "mount_file_id": "https://github.com/laerteluizf/Proc_Imagens_2025_2/blob/main/Proc_Imagens_3_1.ipynb",
      "authorship_tag": "ABX9TyOcu5S+ZKo0XFVNQ/UbZN3y",
      "include_colab_link": true
    },
    "kernelspec": {
      "name": "python3",
      "display_name": "Python 3"
    },
    "language_info": {
      "name": "python"
    }
  },
  "cells": [
    {
      "cell_type": "markdown",
      "metadata": {
        "id": "view-in-github",
        "colab_type": "text"
      },
      "source": [
        "<a href=\"https://colab.research.google.com/github/laerteluizf/Proc_Imagens_2025_2/blob/main/Proc_Imagens_3_Tarefa_3.ipynb\" target=\"_parent\"><img src=\"https://colab.research.google.com/assets/colab-badge.svg\" alt=\"Open In Colab\"/></a>"
      ]
    },
    {
      "cell_type": "code",
      "source": [
        "import os\n",
        "import cv2\n",
        "import numpy as np\n",
        "import matplotlib.pyplot as plt\n",
        "import imutils\n",
        "from google.colab.patches import cv2_imshow\n"
      ],
      "metadata": {
        "id": "5NpmyCYSRW5v"
      },
      "execution_count": null,
      "outputs": []
    },
    {
      "cell_type": "code",
      "source": [
        "#Atividade 3 - Base de Imagens em níveis de cinza\n",
        "\n",
        "caminho_entrada = '/content/drive/MyDrive/Proc de Imagens 2025 2/Imagem Color'\n",
        "caminho_saida = '/content/drive/MyDrive/Proc de Imagens 2025 2/Imagem Cinza'\n",
        "\n",
        "# Lista de todos os arquivos na pasta de entrada\n",
        "arquivos = os.listdir(caminho_entrada)\n",
        "\n",
        "\n",
        "for nome_arquivo in arquivos:\n",
        "    caminho_completo = os.path.join(caminho_entrada, nome_arquivo)\n",
        "\n",
        "    # Verifique se o arquivo é uma imagem (usando a extensão)\n",
        "    if nome_arquivo.lower().endswith(('.png', '.jpg', '.jpeg', '.gif', '.bmp')):\n",
        "\n",
        "        imagem = cv2.imread(caminho_completo, 0)\n",
        "\n",
        "        # Verifique se a imagem foi lida corretamente\n",
        "        if imagem is not None:\n",
        "\n",
        "            imagem_processada = imagem.copy()\n",
        "\n",
        "            # Salvando a imagem processada na pasta de saída\n",
        "            caminho_saida_completo = os.path.join(caminho_saida, nome_arquivo)\n",
        "            cv2.imwrite(caminho_saida_completo, imagem_processada)\n",
        "\n",
        "            print(f'Imagem processada e salva: {nome_arquivo}')\n",
        "\n",
        "        else:\n",
        "            print(f'Erro ao ler a imagem: {nome_arquivo}. O arquivo pode estar corrompido ou não ser uma imagem válida.')\n",
        "    else:\n",
        "        print(f'Ignorando o arquivo não-imagem: {nome_arquivo}')\n",
        "\n",
        "print(\"\\nProcesso concluído!\")"
      ],
      "metadata": {
        "id": "bLAV4Ac0RiId",
        "outputId": "0884d666-838c-4bfd-e514-b8cfb0a93fbe",
        "colab": {
          "base_uri": "https://localhost:8080/"
        }
      },
      "execution_count": null,
      "outputs": [
        {
          "output_type": "stream",
          "name": "stdout",
          "text": [
            "Imagem processada e salva: carro_o_d_5.jpeg\n",
            "Imagem processada e salva: carro_o_n_5.jpeg\n",
            "Imagem processada e salva: carro_i_n_5.jpeg\n",
            "Imagem processada e salva: carro_i_d_5.jpeg\n",
            "Imagem processada e salva: escova_o_n_5.jpeg\n",
            "Imagem processada e salva: escova_i_n_5.jpeg\n",
            "Imagem processada e salva: escova_o_d_5.jpeg\n",
            "Imagem processada e salva: escova_i_d_5.jpeg\n",
            "Imagem processada e salva: flor_i_d_5.jpeg\n",
            "Imagem processada e salva: flor_i_n_5.jpeg\n",
            "Imagem processada e salva: flor_o_d_5.jpeg\n",
            "Imagem processada e salva: flor_o_n_5.jpeg\n",
            "Imagem processada e salva: chave_i_d_5.jpeg\n",
            "Imagem processada e salva: chave_o_d_5.jpeg\n",
            "Imagem processada e salva: chave_i_n_5.jpeg\n",
            "Imagem processada e salva: chave_o_n_5.jpeg\n",
            "\n",
            "Processo concluído!\n"
          ]
        }
      ]
    }
  ]
}